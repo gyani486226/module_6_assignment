{
 "cells": [
  {
   "cell_type": "raw",
   "id": "bf8816d3-7700-451d-9de7-446363f8af28",
   "metadata": {},
   "source": []
  },
  {
   "cell_type": "code",
   "execution_count": null,
   "id": "97a7f7ae-84b0-47fa-a63d-2455bd08f45f",
   "metadata": {},
   "outputs": [],
   "source": [
    "#Q1. Explain the purpose and advantages of NumPy in scientific computing and data analysis. \n",
    "#How does it enhance Python's capabilities for numerical operations ?\n",
    "\n",
    "#Ans- 1.NumPy stands for \"Numerical Python\" and it is the standard python library used for working with arrays, linear algebra and other numerical computations.\n",
    "#2.NumPy is a fundamental library in Python for scientific computing.\n",
    "#3.It offers powerful features for working with multidimensional arrays and performing various mathematical operations efficiently.\n",
    "#4. NumPy is an open source Python librabry that has a wide range of inbuilt functions. \n",
    "#5.Numpy is homogeneous, it can store only same data type.\n",
    "#6.Numpy faster than python lists because NumPy arrays are stored in a single continuous location in memory, making it very easy for programs to access and manipulate them.\n",
    "#7.NumPy enhances the python's capabilities for numerical operations because numPy is built using c programming language and c is one of the fastest programming language after c++.\n",
    "#Advantages are:-\n",
    "#1.NumPy is ideal for handling large amounts of homogeneous(same-type) data, offering significant improvements in speed and memory efficiency.\n",
    "#2.It also provides high-level syntax for a wide range of numerical operations, making it a powerful tool for scientific computing and data processing on the CPU."
   ]
  },
  {
   "cell_type": "code",
   "execution_count": null,
   "id": "3eeff65f-8d28-4759-87c0-c62db582fac2",
   "metadata": {},
   "outputs": [],
   "source": []
  },
  {
   "cell_type": "code",
   "execution_count": null,
   "id": "8ae137bf-4ada-4f6c-b904-abe26b98d235",
   "metadata": {},
   "outputs": [],
   "source": [
    "#Q2- Compare and contrast np.mean() and np.average() functions in NumPy. When would you use one over the other?"
   ]
  },
  {
   "cell_type": "code",
   "execution_count": 3,
   "id": "c4f61590-3013-49fb-8347-69f18692ef83",
   "metadata": {},
   "outputs": [],
   "source": [
    "import numpy as np\n",
    "# if weight of arrays are given then the mean and average are different else both are same.\n",
    "# in average weights are used"
   ]
  },
  {
   "cell_type": "code",
   "execution_count": 5,
   "id": "3e3005b5-35e3-40fd-b65e-8e9b7c5bdf5f",
   "metadata": {},
   "outputs": [
    {
     "data": {
      "text/plain": [
       "2.75"
      ]
     },
     "execution_count": 5,
     "metadata": {},
     "output_type": "execute_result"
    }
   ],
   "source": [
    "arr = np.random.randint(1,5, size = (3,4))\n",
    "np.average(arr)"
   ]
  },
  {
   "cell_type": "code",
   "execution_count": 7,
   "id": "10d4c67e-d258-4552-ba0b-ad1e8cc87af8",
   "metadata": {},
   "outputs": [
    {
     "data": {
      "text/plain": [
       "array([[4, 3, 2, 4],\n",
       "       [3, 4, 1, 2],\n",
       "       [4, 1, 3, 2]])"
      ]
     },
     "execution_count": 7,
     "metadata": {},
     "output_type": "execute_result"
    }
   ],
   "source": [
    "arr"
   ]
  },
  {
   "cell_type": "code",
   "execution_count": 9,
   "id": "46009901-72ae-4869-8ccc-aeb1d74a7ffb",
   "metadata": {},
   "outputs": [
    {
     "data": {
      "text/plain": [
       "2.75"
      ]
     },
     "execution_count": 9,
     "metadata": {},
     "output_type": "execute_result"
    }
   ],
   "source": [
    "np.average(arr)"
   ]
  },
  {
   "cell_type": "code",
   "execution_count": 11,
   "id": "410410f1-d6ce-41bb-a512-35e675b2d9ec",
   "metadata": {},
   "outputs": [
    {
     "data": {
      "text/plain": [
       "2.75"
      ]
     },
     "execution_count": 11,
     "metadata": {},
     "output_type": "execute_result"
    }
   ],
   "source": [
    "np.mean(arr)"
   ]
  },
  {
   "cell_type": "code",
   "execution_count": null,
   "id": "f45a677c-f5b6-4d6d-8321-ba079c9842a3",
   "metadata": {},
   "outputs": [],
   "source": []
  },
  {
   "cell_type": "code",
   "execution_count": null,
   "id": "08e15296-0305-4631-b8ad-809eadf9da9e",
   "metadata": {},
   "outputs": [],
   "source": [
    "#Q3. Describe the methods for reversing a NumPy array along different axes. Provide examples for 1D and 2D\n",
    "#arrays.\n",
    "#Ans- We can reverse the matrix in many ways\n",
    "#1. One dimensional row array Same as list reversing,\n",
    "#2. with the help of  flip inbuilt function "
   ]
  },
  {
   "cell_type": "code",
   "execution_count": 14,
   "id": "825f2aa0-c4b1-43a5-91eb-6203c7eca6cf",
   "metadata": {},
   "outputs": [],
   "source": [
    "arr1 = np.array([1, 2, 3, 4])\n",
    "reverse_arr1 = arr1[::-1]"
   ]
  },
  {
   "cell_type": "code",
   "execution_count": 16,
   "id": "2e756ed4-f7fb-4bd1-86d2-d42effd0a9ed",
   "metadata": {},
   "outputs": [
    {
     "data": {
      "text/plain": [
       "array([4, 3, 2, 1])"
      ]
     },
     "execution_count": 16,
     "metadata": {},
     "output_type": "execute_result"
    }
   ],
   "source": [
    "reverse_arr1"
   ]
  },
  {
   "cell_type": "code",
   "execution_count": 18,
   "id": "5072c40e-9649-487b-a58a-209a77832623",
   "metadata": {},
   "outputs": [],
   "source": [
    "arr2 = np.array([1, 2, 3])\n",
    "reverse_arr2 = arr2[::-1]"
   ]
  },
  {
   "cell_type": "code",
   "execution_count": 20,
   "id": "b47ba41e-bae4-4b67-94ee-64b156971e36",
   "metadata": {},
   "outputs": [
    {
     "data": {
      "text/plain": [
       "array([3, 2, 1])"
      ]
     },
     "execution_count": 20,
     "metadata": {},
     "output_type": "execute_result"
    }
   ],
   "source": [
    "reverse_arr2"
   ]
  },
  {
   "cell_type": "code",
   "execution_count": 22,
   "id": "2e7489c8-ca8a-4974-9c19-31494638f31d",
   "metadata": {},
   "outputs": [
    {
     "name": "stdout",
     "output_type": "stream",
     "text": [
      "arr1        : [1 2 3 4]\n",
      "reverse_arr1: [4 3 2 1]\n"
     ]
    }
   ],
   "source": [
    "arr1 =  np.array([1, 2, 3, 4])\n",
    "reverse_arr1 = np.flip(arr1)\n",
    "print(\"arr1        :\", arr1)\n",
    "print(\"reverse_arr1:\", reverse_arr1)"
   ]
  },
  {
   "cell_type": "code",
   "execution_count": 24,
   "id": "d241e934-d5c2-46ee-94a2-f607ceb7609d",
   "metadata": {},
   "outputs": [
    {
     "data": {
      "text/plain": [
       "array([4, 3, 2, 1])"
      ]
     },
     "execution_count": 24,
     "metadata": {},
     "output_type": "execute_result"
    }
   ],
   "source": [
    "reverse_arr1"
   ]
  },
  {
   "cell_type": "code",
   "execution_count": 26,
   "id": "881fe3e5-ef90-4ad9-825d-8f039d7a8c8b",
   "metadata": {},
   "outputs": [
    {
     "name": "stdout",
     "output_type": "stream",
     "text": [
      "arr3        : [[1 5 6]\n",
      " [1 2 3]\n",
      " [4 5 6]]\n",
      "reverse_arr3: [[4 5 6]\n",
      " [1 2 3]\n",
      " [1 5 6]]\n"
     ]
    }
   ],
   "source": [
    "arr3 = np.array([[1,5,6],[1,2,3],[4, 5, 6]])\n",
    "reverse_arr3 = np.flip(arr3,axis = 0) # axis = 0 means y-axis \n",
    "print(\"arr3        :\", arr3)    \n",
    "print(\"reverse_arr3:\", reverse_arr3)"
   ]
  },
  {
   "cell_type": "code",
   "execution_count": 28,
   "id": "5d3247a4-0edd-42df-92f5-b1d45f3c69d9",
   "metadata": {},
   "outputs": [
    {
     "name": "stdout",
     "output_type": "stream",
     "text": [
      "arr3        : [[1 5 6]\n",
      " [1 2 3]\n",
      " [4 5 6]]\n",
      "reverse_arr3: [[6 5 1]\n",
      " [3 2 1]\n",
      " [6 5 4]]\n"
     ]
    }
   ],
   "source": [
    "arr3 = np.array([[1,5,6],[1,2,3],[4, 5, 6]])\n",
    "reverse_arr3 = np.flip(arr3,axis = 1) # axis = 1 means x-axis \n",
    "print(\"arr3        :\", arr3)    \n",
    "print(\"reverse_arr3:\", reverse_arr3)"
   ]
  },
  {
   "cell_type": "code",
   "execution_count": null,
   "id": "48c55b7f-fb66-491a-9ba9-1f114f9a4fed",
   "metadata": {},
   "outputs": [],
   "source": []
  },
  {
   "cell_type": "code",
   "execution_count": null,
   "id": "90a49c73-b542-4d80-883b-447a7d0a51cd",
   "metadata": {},
   "outputs": [],
   "source": [
    "#Q4. How can you determine the data type of elements in a NumPy array? Discuss the importance of data types in memory management and performance.\n",
    "\n",
    "#Ans-1.With the inbuilt function (dtype) we can determine the data type of any array\n",
    "#2.NumPy arrays can hold various data types like integers (int),floats(float), strings(str), etc you can specify the data types during creation.\n",
    "#3. Array is  homogeneous in nature it can store data in continuous nature because all the elements of array are either integer,float or string etc. \n",
    "#  Due to which increase \n",
    "#  1. Memory Efficieny\n",
    "#  2.Performance\n",
    "#  3. Faster mathematical calculation"
   ]
  },
  {
   "cell_type": "code",
   "execution_count": 31,
   "id": "929862c6-4752-4d7c-855b-461a990284fd",
   "metadata": {},
   "outputs": [
    {
     "name": "stdout",
     "output_type": "stream",
     "text": [
      "int32\n"
     ]
    }
   ],
   "source": [
    "arr_num = np.array([1, 2, 3, 4])\n",
    "print(arr_num.dtype)"
   ]
  },
  {
   "cell_type": "code",
   "execution_count": 33,
   "id": "0a07e4d9-8f24-4d78-bc5d-7517b3673896",
   "metadata": {
    "scrolled": true
   },
   "outputs": [
    {
     "name": "stdout",
     "output_type": "stream",
     "text": [
      "<U6\n"
     ]
    }
   ],
   "source": [
    "arr_str = np.array([\"Shanu\", \"rahul\", \"Kinchu\"])\n",
    "print(arr_str.dtype) # Teh output is <U6 means (<U) is Unicode string and (6) means the longest string"
   ]
  },
  {
   "cell_type": "code",
   "execution_count": 35,
   "id": "598cc9e1-aaf1-4408-b7c2-a000ba67d6ab",
   "metadata": {},
   "outputs": [
    {
     "name": "stdout",
     "output_type": "stream",
     "text": [
      "<U11\n"
     ]
    },
    {
     "data": {
      "text/plain": [
       "array(['1', '2', '3', 'Gaf'], dtype='<U11')"
      ]
     },
     "execution_count": 35,
     "metadata": {},
     "output_type": "execute_result"
    }
   ],
   "source": [
    "arr = np.array([1, 2, 3,\"Gaf\"])\n",
    "print(arr.dtype)\n",
    "arr"
   ]
  },
  {
   "cell_type": "code",
   "execution_count": 37,
   "id": "c147d5eb-c3a4-4ce3-87f9-b78e33766842",
   "metadata": {},
   "outputs": [
    {
     "name": "stdout",
     "output_type": "stream",
     "text": [
      "[1 2 3 4]\n",
      "int32\n"
     ]
    }
   ],
   "source": [
    "arr_int = np.array([1, 2, 3, 4])\n",
    "print(arr_int)\n",
    "print(arr_int.dtype)"
   ]
  },
  {
   "cell_type": "code",
   "execution_count": null,
   "id": "aa950afc-e196-4bd8-b353-0ce7f116101f",
   "metadata": {},
   "outputs": [],
   "source": []
  },
  {
   "cell_type": "code",
   "execution_count": null,
   "id": "6d66fec1-a12b-440c-af28-3a40a883e7a5",
   "metadata": {},
   "outputs": [],
   "source": [
    "#Q5. Define ndarrays in NumPy and explain their key features. How do they differ from standard Python lists?\n",
    "\n",
    "#1. N-Dimensional: The \"N\" in ndarray stands for the number of dimensions. These dimensions can be anything from 1D (a simple list) to 2D(like a matrix) and beyond. you can create arrays with any number of dimensions, and each dimension can have any number of elements. \n",
    "#2. Homogeneous Data: All elements within an ndarray must be of the same data type. Because of this homogeneity ensures efficient memory usage and consistent interpretation of data.\n",
    "#3. Fixed Size: Once you create an ndarray, its size (i.e., the number of elements along each dimension) remains fixed. You can't dynamically resize it like you would with a Python list.\n",
    "#4. Indexing and slicing: You can access individual elements, slice, or subarrays within an ndarray using indexing and slicing.\n",
    "#5 Operations: In array we can perform various task like addition, Matrix multiplication, solve linear equation and statistics and much more operations .\n",
    "#6. Broadcasting: Broadcasting is a mechanism in NumPy that allows performing operations on arrays of different shapes under certain conditions. \n",
    "\n"
   ]
  },
  {
   "cell_type": "code",
   "execution_count": null,
   "id": "cfdec5d8-8cc0-42f7-8deb-555bb4309c6a",
   "metadata": {},
   "outputs": [],
   "source": []
  },
  {
   "cell_type": "code",
   "execution_count": null,
   "id": "5bee617d-a14e-457c-b4e3-4084676ffacd",
   "metadata": {},
   "outputs": [],
   "source": [
    "#Q6. Analyze the performance benefits of NumPy arrays over Python lists for large-scale numerical operations.\n",
    "\n",
    "#Ans-1 Data Structures:\n",
    "# a. Python Lists: Python list are heterogeneous >> it can store many type of data in single list like integer, boolean, float and string all the data are arranged randomly. So it is difficult to find the data.\n",
    "# b. NumPy Arrays: NumPy arrays are homogeneous>>The elements in a NumPy array are all required to be of the same data type, and thus will be the same size in memory.So, it is easy to find the data.\n",
    "#2. Memory Allocation:\n",
    "# a. Python Lists: Each list element is an object containing a pointer to another object. TThis indirection adds overhead\n",
    "# b. NumPy Arrays: They have extra metadata(like shape, strides and data type)but usually less per_element overhead than lists. The continuous memory layout improves space utilization.\n"
   ]
  },
  {
   "cell_type": "code",
   "execution_count": null,
   "id": "536abf07-7ebe-42fc-b73d-632cdcf7155f",
   "metadata": {},
   "outputs": [],
   "source": []
  },
  {
   "cell_type": "code",
   "execution_count": null,
   "id": "ccfa87a2-6e18-4c81-af15-c572ee0b7746",
   "metadata": {},
   "outputs": [],
   "source": [
    "#Q7. Compare vstack() and hstack() functions in NumPy. Provide examples demonstrating their usage and output.\n",
    "#vstack :- Add  arrays verically called as vstack\n",
    "#hstack :- Stack  arrays horizontally(column wise) called as hstack\n",
    "#All array are of same size "
   ]
  },
  {
   "cell_type": "code",
   "execution_count": 32,
   "id": "7817808a-991b-4847-b00d-1313a832a35c",
   "metadata": {},
   "outputs": [
    {
     "name": "stdout",
     "output_type": "stream",
     "text": [
      "ar1:  [[4 6 5 6]\n",
      " [2 1 5 1]\n",
      " [2 5 2 5]]\n",
      "ar2:  [[1 1 2 2]\n",
      " [1 2 3 4]\n",
      " [1 1 4 4]]\n"
     ]
    }
   ],
   "source": [
    "import numpy as np\n",
    "ar1 = np.random.randint(1,7, size = (3,4))\n",
    "ar2 = np.random.randint(1,5 ,size = (3,4))\n",
    "print(\"ar1: \", ar1)\n",
    "print(\"ar2: \", ar2)"
   ]
  },
  {
   "cell_type": "code",
   "execution_count": 34,
   "id": "b06fc554-3c1b-400f-b370-8f8a602d763e",
   "metadata": {},
   "outputs": [
    {
     "data": {
      "text/plain": [
       "array([[4, 6, 5, 6],\n",
       "       [2, 1, 5, 1],\n",
       "       [2, 5, 2, 5],\n",
       "       [1, 1, 2, 2],\n",
       "       [1, 2, 3, 4],\n",
       "       [1, 1, 4, 4]])"
      ]
     },
     "execution_count": 34,
     "metadata": {},
     "output_type": "execute_result"
    }
   ],
   "source": [
    "c = np.vstack((ar1,ar2))\n",
    "c"
   ]
  },
  {
   "cell_type": "code",
   "execution_count": 40,
   "id": "e6abfed2-7bb3-4158-8762-9a489359665d",
   "metadata": {},
   "outputs": [
    {
     "data": {
      "text/plain": [
       "array([[4, 6, 5, 6, 1, 1, 2, 2],\n",
       "       [2, 1, 5, 1, 1, 2, 3, 4],\n",
       "       [2, 5, 2, 5, 1, 1, 4, 4]])"
      ]
     },
     "execution_count": 40,
     "metadata": {},
     "output_type": "execute_result"
    }
   ],
   "source": [
    "d = np.hstack((ar1,ar2))\n",
    "d"
   ]
  },
  {
   "cell_type": "code",
   "execution_count": 57,
   "id": "e84935a2-c3e6-458d-9e51-2aa92985f364",
   "metadata": {},
   "outputs": [
    {
     "name": "stdout",
     "output_type": "stream",
     "text": [
      "[[1 2 3]\n",
      " [4 5 6]\n",
      " [7 8 9]]\n"
     ]
    },
    {
     "data": {
      "text/plain": [
       "array([1, 2, 3, 4, 5, 6, 7, 8, 9])"
      ]
     },
     "execution_count": 57,
     "metadata": {},
     "output_type": "execute_result"
    }
   ],
   "source": [
    "ar3 = np.array([1, 2, 3])\n",
    "ar4 = np.array([4, 5, 6])\n",
    "ar5 = np.array([7, 8, 9])\n",
    "e = np.vstack((ar3, ar4, ar5))\n",
    "print(e)\n",
    "f = np.hstack((ar3, ar4, ar5))\n",
    "f"
   ]
  },
  {
   "cell_type": "code",
   "execution_count": null,
   "id": "78f038a8-9bcd-480e-bb34-93795db7acd2",
   "metadata": {},
   "outputs": [],
   "source": [
    "#Q8. Explain the differences between fliplr() and flipud() methods in NumPy, including their effects on various array dimensions.\n",
    "\n",
    "#fliplr()>> Stands from Flip Left-Right\n",
    "#1. It reverse the order of elements along axis 1 (i.e., horizontally). Imagine it like flipping a matrix from left to right.\n",
    "#2. Input array, must be atleast 2-D.\n",
    "#3. Columns are preserved, but appear in a different order than before.\n",
    "\n",
    "#flipud()>> Stands from Flip Up-Down\n",
    "#1. flip array in the up/down direction.\n",
    "#2. The flipud() functions reverses the order of elements along axis 0 (i.e., vertically) up to down.\n",
    "#3. Input array, must be atleast 2-D.\n",
    "#4. Rows are preserved, but appear in a different order than before.\n"
   ]
  },
  {
   "cell_type": "code",
   "execution_count": 39,
   "id": "1c290028-dd7c-4799-bb69-c61f9f6e8fdf",
   "metadata": {},
   "outputs": [
    {
     "name": "stdout",
     "output_type": "stream",
     "text": [
      "[[2 5 4]\n",
      " [3 4 3]]\n",
      "[[4 5 2]\n",
      " [3 4 3]]\n"
     ]
    }
   ],
   "source": [
    "import numpy as np\n",
    "a1 = np.random.randint(2,6, size = (2,3))\n",
    "print(a1)\n",
    "a11 = np.fliplr(a1)\n",
    "print(a11)"
   ]
  },
  {
   "cell_type": "code",
   "execution_count": 41,
   "id": "a2f8b12f-a75b-44e9-a4eb-e74f6f8d753a",
   "metadata": {},
   "outputs": [
    {
     "name": "stdout",
     "output_type": "stream",
     "text": [
      "[[4 1 3 2 1]\n",
      " [3 4 3 3 2]\n",
      " [3 2 4 2 3]\n",
      " [3 1 4 3 2]]\n",
      "[[3 1 4 3 2]\n",
      " [3 2 4 2 3]\n",
      " [3 4 3 3 2]\n",
      " [4 1 3 2 1]]\n"
     ]
    }
   ],
   "source": [
    "a2 = np.random.randint(1,5, size = (4,5))\n",
    "print(a2)\n",
    "a22 = np.flipud(a2)\n",
    "print(a22)"
   ]
  },
  {
   "cell_type": "code",
   "execution_count": null,
   "id": "6bfb54af-fc75-4b82-9d5e-f187c437d6a6",
   "metadata": {},
   "outputs": [],
   "source": []
  },
  {
   "cell_type": "code",
   "execution_count": null,
   "id": "1dc3494b-7e36-4f02-8345-5206971569ac",
   "metadata": {},
   "outputs": [],
   "source": [
    "#Q9. Discuss the functionality of the array_split() method in NumPy. How does it handle uneven splits?\n",
    "\n",
    "#array_split()>> 1. The numpy.array_split() function is used to split an array into multiple sub-arrays. It's quite similar to the regular numpy.split() method.\n",
    "#2. It allows for uneven ( numpy.array_split() ) splitting arrays."
   ]
  },
  {
   "cell_type": "code",
   "execution_count": 48,
   "id": "47305f3d-cbcd-496d-bba3-ae3eea0086b1",
   "metadata": {},
   "outputs": [
    {
     "name": "stdout",
     "output_type": "stream",
     "text": [
      "[[1 2 3 4]\n",
      " [1 2 3 6]\n",
      " [1 2 7 8]]\n",
      "split_array: [array([[1, 2, 3, 4]]), array([[1, 2, 3, 6]]), array([[1, 2, 7, 8]]), array([], shape=(0, 4), dtype=int32)]\n"
     ]
    }
   ],
   "source": [
    "import numpy as np\n",
    "arr1 = np.array([[1, 2, 3, 4],[1, 2,3,6],[1,2,7,8]])\n",
    "b = np.array_split(arr1,4)\n",
    "print(arr1)\n",
    "print(\"split_array:\", b)"
   ]
  },
  {
   "cell_type": "code",
   "execution_count": 58,
   "id": "fcb4035a-cf78-45aa-a6a9-278ee5025484",
   "metadata": {},
   "outputs": [
    {
     "name": "stdout",
     "output_type": "stream",
     "text": [
      "[1 2 3 4]\n",
      "[array([1, 2]), array([3]), array([4])]\n"
     ]
    }
   ],
   "source": [
    "arr1 = np.array(([1, 2, 3, 4]))\n",
    "c = np.array_split(arr1,3)\n",
    "print(arr1)\n",
    "print(c)"
   ]
  },
  {
   "cell_type": "code",
   "execution_count": 60,
   "id": "9e548bed-67aa-4298-8b4a-7e89493aea5d",
   "metadata": {},
   "outputs": [
    {
     "name": "stdout",
     "output_type": "stream",
     "text": [
      "[0 1 2 3 4 5 6 7]\n",
      "[array([0, 1, 2, 3]), array([4, 5, 6, 7])]\n"
     ]
    }
   ],
   "source": [
    "arr2 = np.arange(8)\n",
    "print(arr2)\n",
    "d = np.array_split(arr2,2)\n",
    "print(d)"
   ]
  },
  {
   "cell_type": "code",
   "execution_count": 84,
   "id": "6df1b0a9-16c8-4bad-a84c-d51c6e3c85cf",
   "metadata": {},
   "outputs": [
    {
     "name": "stdout",
     "output_type": "stream",
     "text": [
      "[[2 4 2 5 5]\n",
      " [3 5 2 3 6]\n",
      " [3 2 5 5 5]\n",
      " [4 2 4 6 7]]\n",
      "[array([[2],\n",
      "       [3],\n",
      "       [3],\n",
      "       [4]]), array([[4],\n",
      "       [5],\n",
      "       [2],\n",
      "       [2]]), array([[2],\n",
      "       [2],\n",
      "       [5],\n",
      "       [4]]), array([[5],\n",
      "       [3],\n",
      "       [5],\n",
      "       [6]]), array([[5],\n",
      "       [6],\n",
      "       [5],\n",
      "       [7]])]\n"
     ]
    }
   ],
   "source": [
    "arr3 = np.random.randint(2,8, (4,5))\n",
    "print(arr3)\n",
    "e = np.array_split(arr3,5, axis = 1)\n",
    "print(e)"
   ]
  },
  {
   "cell_type": "code",
   "execution_count": null,
   "id": "fe436205-4349-4e80-b5c4-eb0750122f24",
   "metadata": {},
   "outputs": [],
   "source": []
  },
  {
   "cell_type": "code",
   "execution_count": null,
   "id": "9c933c29-17e3-4da4-90ac-53276760f0c6",
   "metadata": {},
   "outputs": [],
   "source": [
    "#Q10. Explain the concepts of vectorization and broadcasting in NumPy. How do they contribute to efficient array operations ?\n",
    "#1. Vectorization:\n",
    "# . Vectorization is a powerful concept in NumPy that allows you to perform element-wise operations\n",
    "#   on entire arrays (or vectors) without explicitly writhin loops. It's like applying an operation \n",
    "#  to each element of an array simultaneously.\n",
    "#  . When you perform an operation (e.g., addition, multiplication,etc.) between two NumPy arrays, \n",
    "#    the operation is automatically applied element-wise. This is much more efficient than iterating \n",
    "#   through each element manually.\n",
    "# . The NumPy enhances the python's capabilities for numerical operations because numPy is built \n",
    "#    using c programming language and c is one of the fastest programming language after c++.\n",
    "#2. Broadcasting:\n",
    "#  . Broadcasting extends the concept of vectorization. It allows NumPy to perform operations on \n",
    "#    arrays with different shapes, as long as they are compatible.\n",
    "#  . When you perform an operation between arrays with different shapes, NumPy automatically \n",
    "#    \"broadcast\" the smaller array to match the shape of the larger one. \n",
    "#3. Efficiency Benefits:\n",
    "#  . Performance: By avoiding explicit loops, vectorized operations are significantly faster. \n",
    "#    NumPy's optimized routines take advantage of hardware-specific optimizations.\n",
    "#  . Readability: Vectorized code is concise and easier to understand. You express your intent \n",
    "#    directly without writing boilerplate loop code.\n",
    "#4. Memory Efficiency:\n",
    "#  . Broadcasting avoids unnecessary copying of data. It operates on views of the original arrays,\n",
    "#    minimizing memory usage.\n",
    "#5. Parallelization: Vectorized operations can be parallelized, utilization multiple CPU cores \n",
    "#   efficiency."
   ]
  },
  {
   "cell_type": "code",
   "execution_count": 50,
   "id": "d31d11e6-4eba-4f89-a0ad-336a6f123c2b",
   "metadata": {},
   "outputs": [
    {
     "name": "stdout",
     "output_type": "stream",
     "text": [
      "[[3 3 1 2]\n",
      " [3 2 2 3]\n",
      " [3 3 1 1]]\n",
      "[[6 6 4 5]\n",
      " [6 5 5 6]\n",
      " [6 6 4 4]]\n"
     ]
    }
   ],
   "source": [
    "a11 = np.random.randint(1,4,(3,4))\n",
    "print(a11)\n",
    "print(a11+3)"
   ]
  },
  {
   "cell_type": "code",
   "execution_count": 54,
   "id": "237e91ca-55cc-494b-88eb-bc652bbf3a79",
   "metadata": {},
   "outputs": [
    {
     "name": "stdout",
     "output_type": "stream",
     "text": [
      "[[1 3]\n",
      " [3 4]]\n",
      "[[10 20]]\n",
      "[[11 23]\n",
      " [13 24]]\n"
     ]
    }
   ],
   "source": [
    "a = np.array([[1,3],[3,4]])\n",
    "b = np.array([[10,20]])\n",
    "print(a)\n",
    "print(b)\n",
    "print(a+b)"
   ]
  },
  {
   "cell_type": "code",
   "execution_count": null,
   "id": "0f55f181-3f41-409d-bb28-9e24f5cfa698",
   "metadata": {},
   "outputs": [],
   "source": []
  },
  {
   "cell_type": "code",
   "execution_count": 57,
   "id": "163eea90-ff0a-447f-b269-7fa5cb71093a",
   "metadata": {},
   "outputs": [
    {
     "name": "stdout",
     "output_type": "stream",
     "text": [
      "[[17 83 43]\n",
      " [20 90 17]\n",
      " [28 74 78]]\n",
      "transpose of arr:  [[17 20 28]\n",
      " [83 90 74]\n",
      " [43 17 78]]\n"
     ]
    }
   ],
   "source": [
    "#1. Create a 3x3 NumPy array with random integers between 1 and 100. Then, interchange its rows and columns.\n",
    "import numpy as np\n",
    "arr = np.random.randint(1,100,(3,3)) \n",
    "print(arr)\n",
    "print(\"transpose of arr: \", arr.T)"
   ]
  },
  {
   "cell_type": "code",
   "execution_count": null,
   "id": "166aff5d-6f70-44cf-abe1-6d8ed635891e",
   "metadata": {},
   "outputs": [],
   "source": []
  },
  {
   "cell_type": "code",
   "execution_count": 63,
   "id": "145e5d47-ba40-45cd-991d-f63b1b09d374",
   "metadata": {},
   "outputs": [
    {
     "name": "stdout",
     "output_type": "stream",
     "text": [
      "original 1D array:\n",
      "[0 1 2 3 4 5 6 7 8 9]\n",
      "2x5 array:\n",
      "[[0 1 2 3 4]\n",
      " [5 6 7 8 9]]\n",
      "5x2 array:\n",
      "[[0 1]\n",
      " [2 3]\n",
      " [4 5]\n",
      " [6 7]\n",
      " [8 9]]\n"
     ]
    }
   ],
   "source": [
    "#2. Generate a 1D NumPy array with 10 elements. Reshape it into a 2x5 array, then into a 5x2 array.\n",
    "original_array = np.arange(10)\n",
    "print(\"original 1D array:\")\n",
    "print(original_array)\n",
    "print(\"2x5 array:\")\n",
    "array_new1 = original_array.reshape(2,5)\n",
    "print(array_new1)\n",
    "array_new2 = original_array.reshape(5,2)\n",
    "print(\"5x2 array:\")\n",
    "print(array_new2)"
   ]
  },
  {
   "cell_type": "code",
   "execution_count": null,
   "id": "ed9b7e6a-b2fa-49bc-bef1-f0b7db441553",
   "metadata": {},
   "outputs": [],
   "source": []
  },
  {
   "cell_type": "code",
   "execution_count": 418,
   "id": "d05adecd-7ff4-48a2-ac3e-ca876d29d204",
   "metadata": {},
   "outputs": [
    {
     "name": "stdout",
     "output_type": "stream",
     "text": [
      "[[0.         0.         0.         0.         0.         0.        ]\n",
      " [0.         0.54158685 0.85132979 0.48507484 0.96604983 0.        ]\n",
      " [0.         0.21851606 0.87881    0.30780177 0.18089829 0.        ]\n",
      " [0.         0.94184465 0.38775755 0.69111821 0.09876001 0.        ]\n",
      " [0.         0.06712463 0.23623291 0.19076673 0.25512093 0.        ]\n",
      " [0.         0.         0.         0.         0.         0.        ]]\n"
     ]
    }
   ],
   "source": [
    "#3. Create a 4x4 NumPy array with random float values. Add a border of zeros around it, resulting in a 6x6 array.\n",
    "\n",
    "arr_float = np.random.rand(4,4)\n",
    "arr_float\n",
    "result_array =  np.pad(arr_float, pad_width = 1,mode = \"constant\", constant_values = 0, )\n",
    "print(result_array)"
   ]
  },
  {
   "cell_type": "code",
   "execution_count": null,
   "id": "74b9538f-9673-4e8d-b475-49e19bd8e366",
   "metadata": {},
   "outputs": [],
   "source": []
  },
  {
   "cell_type": "code",
   "execution_count": null,
   "id": "6ce5702c-1eb3-4f89-81a1-163e19f6bb2a",
   "metadata": {},
   "outputs": [],
   "source": []
  },
  {
   "cell_type": "code",
   "execution_count": 72,
   "id": "0583b035-0106-46b0-8d3e-23de74744b83",
   "metadata": {},
   "outputs": [
    {
     "data": {
      "text/plain": [
       "array([10, 15, 20, 25, 30, 35, 40, 45, 50, 55, 60])"
      ]
     },
     "execution_count": 72,
     "metadata": {},
     "output_type": "execute_result"
    }
   ],
   "source": [
    "#4. Using NumPy, create an array of integers from 10 to 60 with a step of 5.\n",
    "import numpy as np\n",
    "arr = np.arange(10,61 ,5)\n",
    "arr"
   ]
  },
  {
   "cell_type": "code",
   "execution_count": null,
   "id": "d2f28efa-f2e2-47f7-b19f-95fdeb26e40f",
   "metadata": {},
   "outputs": [],
   "source": []
  },
  {
   "cell_type": "code",
   "execution_count": null,
   "id": "b4d076af-dbd9-49f9-b1c2-4f7db2401dd2",
   "metadata": {},
   "outputs": [],
   "source": []
  },
  {
   "cell_type": "code",
   "execution_count": 110,
   "id": "ae3c680a-195c-4c3e-a605-d62a9e9afcb6",
   "metadata": {},
   "outputs": [
    {
     "name": "stdout",
     "output_type": "stream",
     "text": [
      "uppercase: ['PYTHON' 'NUMPY' 'PANDAS']\n",
      "lowercase: ['python' 'numpy' 'pandas']\n",
      "swapcase: ['PYTHON' 'NUMPY' 'PANDAS']\n",
      "capitalized: ['Python' 'Numpy' 'Pandas']\n"
     ]
    }
   ],
   "source": [
    "#5. Create a NumPy array of strings ['python', 'numpy', 'pandas']. Apply different case transformations\n",
    "#(uppercase, lowercase, title case, etc.) to each element.\n",
    "str1 = np.array([\"python\", \"numpy\", \"pandas\"])\n",
    "uppercase = np.char.upper(str1)\n",
    "print(\"uppercase:\", uppercase)\n",
    "lowercase = np.char.lower(str1)\n",
    "print(\"lowercase:\", lowercase)\n",
    "swapcase = np.char.swapcase(str1)\n",
    "print(\"swapcase:\", swapcase)\n",
    "capitalized = np.char.capitalize(str1)\n",
    "print(\"capitalized:\", capitalized)"
   ]
  },
  {
   "cell_type": "code",
   "execution_count": null,
   "id": "63e2574e-9cc3-41ae-819f-38735f5f61ff",
   "metadata": {},
   "outputs": [],
   "source": []
  },
  {
   "cell_type": "code",
   "execution_count": 71,
   "id": "eec77486-83e3-4749-a8af-05398e056db2",
   "metadata": {},
   "outputs": [],
   "source": [
    "#6. Generate a NumPy array of words. Insert a space between each character of every word in the array."
   ]
  },
  {
   "cell_type": "code",
   "execution_count": 101,
   "id": "91457df4-8db9-4908-8f50-cc56cff3419c",
   "metadata": {},
   "outputs": [
    {
     "name": "stdout",
     "output_type": "stream",
     "text": [
      "['a b r a c a d a b r a' 'w i z a r d r y' 'e n c h a n t'\n",
      " 's p e l l b i n d i n g' 'i n c a n t a t i o n']\n"
     ]
    }
   ],
   "source": [
    "\n",
    "words = np.array(['abracadabra', 'wizardry', 'enchant', 'spellbinding', 'incantation'])\n",
    "spaced_words = np.array([' '.join(list(word)) for word in words])\n",
    "print(spaced_words)"
   ]
  },
  {
   "cell_type": "code",
   "execution_count": 91,
   "id": "dae8e32a-954a-4f98-93fe-f7891f7902dd",
   "metadata": {},
   "outputs": [
    {
     "data": {
      "text/plain": [
       "'s h n j j n i'"
      ]
     },
     "execution_count": 91,
     "metadata": {},
     "output_type": "execute_result"
    }
   ],
   "source": [
    "word = \"shnjjni\"\n",
    "\" \".join(word)"
   ]
  },
  {
   "cell_type": "code",
   "execution_count": 136,
   "id": "c28f0577-b3c1-49fe-b497-655b2af3b36e",
   "metadata": {},
   "outputs": [
    {
     "name": "stdout",
     "output_type": "stream",
     "text": [
      "addition: [[ 6 30 40  9]]\n",
      "Subtraction: [[-4 20 30 -1]]\n",
      "multiplication: [[  5 125 175  20]]\n",
      "division: [[0.2 5.  7.  0.8]]\n"
     ]
    }
   ],
   "source": [
    "#7. Create two 2D NumPy arrays and perform element-wise addition, subtraction, multiplication, and division.\n",
    "array2d = np.array(([[1, 25, 35 ,4]]))\n",
    "array = 5 \n",
    "print(\"addition:\", array2d + array)\n",
    "print(\"Subtraction:\", array2d - array)\n",
    "print(\"multiplication:\", array2d * array)\n",
    "print(\"division:\", array2d / array)"
   ]
  },
  {
   "cell_type": "code",
   "execution_count": null,
   "id": "93ef6987-bfbd-4fa0-8aa0-ddf651d12fd7",
   "metadata": {},
   "outputs": [],
   "source": []
  },
  {
   "cell_type": "code",
   "execution_count": 165,
   "id": "6ed1c9ba-87bb-475c-b8dd-52fd3db25202",
   "metadata": {},
   "outputs": [
    {
     "name": "stdout",
     "output_type": "stream",
     "text": [
      "[[1. 0. 0. 0. 0.]\n",
      " [0. 1. 0. 0. 0.]\n",
      " [0. 0. 1. 0. 0.]\n",
      " [0. 0. 0. 1. 0.]\n",
      " [0. 0. 0. 0. 1.]]\n",
      "[1. 1. 1. 1. 1.]\n"
     ]
    }
   ],
   "source": [
    "#8. Use NumPy to create a 5x5 identity matrix, then extract its diagonal elements.\n",
    "identity_matrix = np.eye(5)\n",
    "diagonal_elements = np.diag(identity_matrix)\n",
    "print(identity_matrix)\n",
    "print(diagonal_elements)"
   ]
  },
  {
   "cell_type": "code",
   "execution_count": null,
   "id": "2ab0c214-e1b8-4788-9cee-211ad1b8ff1d",
   "metadata": {},
   "outputs": [],
   "source": []
  },
  {
   "cell_type": "code",
   "execution_count": 351,
   "id": "71a11add-b52b-4534-9a8d-793ac480d52f",
   "metadata": {},
   "outputs": [
    {
     "name": "stdout",
     "output_type": "stream",
     "text": [
      "0 is not a prime number\n",
      "10 is not a prime number\n",
      "20 is not a prime number\n",
      "30 is not a prime number\n",
      "40 is not a prime number\n",
      "50 is not a prime number\n",
      "60 is not a prime number\n",
      "70 is not a prime number\n",
      "80 is not a prime number\n",
      "91 is not a prime number\n",
      "101 is a prime number\n",
      "111 is not a prime number\n",
      "121 is not a prime number\n",
      "131 is a prime number\n",
      "141 is not a prime number\n",
      "151 is a prime number\n",
      "161 is not a prime number\n",
      "171 is not a prime number\n",
      "182 is not a prime number\n",
      "192 is not a prime number\n",
      "202 is not a prime number\n",
      "212 is not a prime number\n",
      "222 is not a prime number\n",
      "232 is not a prime number\n",
      "242 is not a prime number\n",
      "252 is not a prime number\n",
      "262 is not a prime number\n",
      "273 is not a prime number\n",
      "283 is a prime number\n",
      "293 is a prime number\n",
      "303 is not a prime number\n",
      "313 is a prime number\n",
      "323 is not a prime number\n",
      "333 is not a prime number\n",
      "343 is not a prime number\n",
      "353 is a prime number\n",
      "364 is not a prime number\n",
      "374 is not a prime number\n",
      "384 is not a prime number\n",
      "394 is not a prime number\n",
      "404 is not a prime number\n",
      "414 is not a prime number\n",
      "424 is not a prime number\n",
      "434 is not a prime number\n",
      "444 is not a prime number\n",
      "455 is not a prime number\n",
      "465 is not a prime number\n",
      "475 is not a prime number\n",
      "485 is not a prime number\n",
      "495 is not a prime number\n",
      "505 is not a prime number\n",
      "515 is not a prime number\n",
      "525 is not a prime number\n",
      "535 is not a prime number\n",
      "546 is not a prime number\n",
      "556 is not a prime number\n",
      "566 is not a prime number\n",
      "576 is not a prime number\n",
      "586 is not a prime number\n",
      "596 is not a prime number\n",
      "606 is not a prime number\n",
      "616 is not a prime number\n",
      "626 is not a prime number\n",
      "637 is not a prime number\n",
      "647 is a prime number\n",
      "657 is not a prime number\n",
      "667 is not a prime number\n",
      "677 is a prime number\n",
      "687 is not a prime number\n",
      "697 is not a prime number\n",
      "707 is not a prime number\n",
      "717 is not a prime number\n",
      "728 is not a prime number\n",
      "738 is not a prime number\n",
      "748 is not a prime number\n",
      "758 is not a prime number\n",
      "768 is not a prime number\n",
      "778 is not a prime number\n",
      "788 is not a prime number\n",
      "798 is not a prime number\n",
      "808 is not a prime number\n",
      "819 is not a prime number\n",
      "829 is a prime number\n",
      "839 is a prime number\n",
      "849 is not a prime number\n",
      "859 is a prime number\n",
      "869 is not a prime number\n",
      "879 is not a prime number\n",
      "889 is not a prime number\n",
      "899 is not a prime number\n",
      "910 is not a prime number\n",
      "920 is not a prime number\n",
      "930 is not a prime number\n",
      "940 is not a prime number\n",
      "950 is not a prime number\n",
      "960 is not a prime number\n",
      "970 is not a prime number\n",
      "980 is not a prime number\n",
      "990 is not a prime number\n",
      "1001 is not a prime number\n"
     ]
    }
   ],
   "source": [
    "#9. Generate a NumPy array of 100 random integers between 0 and 1000. Find and display all prime numbers in this array.\n",
    "\n",
    "\n",
    "Random_int = np.linspace(0, 1001, 100, dtype = int)\n",
    "\n",
    "\n",
    "num_list = list(Random_int)\n",
    "\n",
    "# Check prime\n",
    "for num in num_list:\n",
    "    count = 0\n",
    "    for i in range(1, int(num) + 1):\n",
    "        if num % i == 0:\n",
    "            count += 1\n",
    "\n",
    "    if count == 2:\n",
    "        print(f\"{num} is a prime number\")\n",
    "    else:\n",
    "        print(f\"{num} is not a prime number\")\n",
    "\n"
   ]
  },
  {
   "cell_type": "code",
   "execution_count": null,
   "id": "325f2fed-a3df-4e4a-b1eb-7fe9d5775cf0",
   "metadata": {},
   "outputs": [],
   "source": []
  },
  {
   "cell_type": "code",
   "execution_count": 408,
   "id": "d143ca7d-24b7-452e-ad41-572b89995154",
   "metadata": {},
   "outputs": [
    {
     "name": "stdout",
     "output_type": "stream",
     "text": [
      "first week 22.428571428571427\n",
      "second week 22.071428571428573\n",
      "third week 27.085714285714285\n"
     ]
    }
   ],
   "source": [
    "#10. Create a NumPy array representing daily temperatures for a month. Calculate and display the weekly averages.\n",
    "daily_temp = np.array([21,19,27,28,20,23,18,22,23,19.5,21.5,22,23, 22.5, 23.0, 24.5, 25.2, 26.8, 27.3, 28.1, 29.0, 28.7, 27.4, 26.0, 24.8, 23.9, 22.6, 28, 27, 30])\n",
    "week_first = np.average((daily_temp[1:8]))\n",
    "second_week= np.average((daily_temp[8:15]))\n",
    "third_week = np.average((daily_temp[15:22]))\n",
    "print(f\"first week {week_first}\")\n",
    "print(f\"second week {second_week}\")\n",
    "print(f\"third week {third_week}\")\n"
   ]
  },
  {
   "cell_type": "code",
   "execution_count": 368,
   "id": "e91007a2-0617-493c-92fd-990b9889da3c",
   "metadata": {},
   "outputs": [],
   "source": [
    "\n",
    "\n"
   ]
  },
  {
   "cell_type": "code",
   "execution_count": null,
   "id": "ce20d322-a04e-40a1-a7a1-4ce2ade388fb",
   "metadata": {},
   "outputs": [],
   "source": []
  },
  {
   "cell_type": "code",
   "execution_count": null,
   "id": "cdfa98b4-8b7b-450c-99ec-2113878fe27f",
   "metadata": {},
   "outputs": [],
   "source": []
  },
  {
   "cell_type": "code",
   "execution_count": null,
   "id": "56adcb02-7eb5-45f7-9fe6-58cd3f7955bc",
   "metadata": {},
   "outputs": [],
   "source": []
  }
 ],
 "metadata": {
  "kernelspec": {
   "display_name": "Python 3 (ipykernel)",
   "language": "python",
   "name": "python3"
  },
  "language_info": {
   "codemirror_mode": {
    "name": "ipython",
    "version": 3
   },
   "file_extension": ".py",
   "mimetype": "text/x-python",
   "name": "python",
   "nbconvert_exporter": "python",
   "pygments_lexer": "ipython3",
   "version": "3.12.4"
  }
 },
 "nbformat": 4,
 "nbformat_minor": 5
}
